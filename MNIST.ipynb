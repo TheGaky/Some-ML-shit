{
 "cells": [
  {
   "cell_type": "code",
   "execution_count": 15,
   "metadata": {
    "execution": {
     "iopub.execute_input": "2023-03-24T17:32:27.690808Z",
     "iopub.status.busy": "2023-03-24T17:32:27.690420Z",
     "iopub.status.idle": "2023-03-24T17:32:29.289275Z",
     "shell.execute_reply": "2023-03-24T17:32:29.288226Z",
     "shell.execute_reply.started": "2023-03-24T17:32:27.690773Z"
    }
   },
   "outputs": [],
   "source": [
    "import numpy as np\n",
    "import pandas as pd\n",
    "from matplotlib import pyplot as plt\n",
    "\n",
    "import torch\n",
    "import torch.nn as nn\n",
    "import torch.nn.functional as F\n",
    "\n",
    "data = pd.read_csv('/Users/gaky/Desktop/MNIST bitch!/digit-recognizer/train.csv')"
   ]
  },
  {
   "cell_type": "code",
   "execution_count": 16,
   "metadata": {
    "execution": {
     "iopub.execute_input": "2023-03-24T17:32:29.291436Z",
     "iopub.status.busy": "2023-03-24T17:32:29.291176Z",
     "iopub.status.idle": "2023-03-24T17:32:29.378330Z",
     "shell.execute_reply": "2023-03-24T17:32:29.377208Z",
     "shell.execute_reply.started": "2023-03-24T17:32:29.291410Z"
    }
   },
   "outputs": [],
   "source": [
    "data = np.array(data)\n",
    "x_train = data.T[1:]/255.\n",
    "y_train = data.T[0]\n",
    "\n",
    "\n",
    "x_train = torch.tensor(x_train.T).float()\n",
    "y_train = torch.tensor(y_train)"
   ]
  },
  {
   "cell_type": "code",
   "execution_count": 26,
   "metadata": {},
   "outputs": [],
   "source": [
    "class MNIST_net(nn.Module):\n",
    "    def __init__(self):\n",
    "        super(MNIST_net, self).__init__()\n",
    "        self.l1 = nn.Linear(784, 30)\n",
    "        #nn.init.kaiming_normal_(self.l1.weight, mode='fan_out', nonlinearity='relu')\n",
    "        \n",
    "        self.l2 = nn.Linear(30, 30)\n",
    "        #nn.init.kaiming_normal_(self.l2.weight, mode='fan_out', nonlinearity='relu')\n",
    "        \n",
    "        self.l3 = nn.Linear(30, 10)\n",
    "    \n",
    "    \n",
    "    def forward(self, x):\n",
    "        x = F.relu(self.l1(x))\n",
    "        x = F.relu(self.l2(x))\n",
    "        x = self.l3(x)\n",
    "        #x = F.softmax(x, dim=1)\n",
    "        return x"
   ]
  },
  {
   "cell_type": "code",
   "execution_count": 28,
   "metadata": {},
   "outputs": [
    {
     "name": "stdout",
     "output_type": "stream",
     "text": [
      "loss 2.31 accuracy 0.10\n",
      "loss 2.24 accuracy 0.20\n",
      "loss 1.94 accuracy 0.48\n",
      "loss 1.23 accuracy 0.68\n",
      "loss 0.77 accuracy 0.79\n",
      "loss 0.58 accuracy 0.84\n",
      "loss 0.49 accuracy 0.86\n",
      "loss 0.46 accuracy 0.86\n",
      "loss 0.41 accuracy 0.88\n",
      "loss 0.38 accuracy 0.89\n",
      "loss 0.36 accuracy 0.90\n",
      "loss 0.35 accuracy 0.90\n",
      "loss 0.34 accuracy 0.90\n",
      "loss 0.32 accuracy 0.91\n",
      "loss 0.31 accuracy 0.91\n",
      "loss 0.31 accuracy 0.91\n",
      "loss 0.30 accuracy 0.91\n",
      "loss 0.29 accuracy 0.92\n",
      "loss 0.28 accuracy 0.92\n",
      "loss 0.27 accuracy 0.92\n",
      "loss 0.27 accuracy 0.92\n",
      "loss 0.26 accuracy 0.93\n",
      "loss 0.26 accuracy 0.93\n",
      "loss 0.25 accuracy 0.93\n",
      "loss 0.25 accuracy 0.93\n",
      "loss 0.24 accuracy 0.93\n",
      "loss 0.24 accuracy 0.93\n",
      "loss 0.23 accuracy 0.93\n",
      "loss 0.23 accuracy 0.93\n",
      "loss 0.22 accuracy 0.94\n",
      "loss 0.22 accuracy 0.94\n",
      "loss 0.22 accuracy 0.94\n",
      "loss 0.21 accuracy 0.94\n",
      "loss 0.21 accuracy 0.94\n",
      "loss 0.21 accuracy 0.94\n",
      "loss 0.20 accuracy 0.94\n",
      "loss 0.20 accuracy 0.94\n",
      "loss 0.20 accuracy 0.94\n",
      "loss 0.19 accuracy 0.94\n",
      "loss 0.19 accuracy 0.95\n",
      "loss 0.19 accuracy 0.95\n",
      "loss 0.19 accuracy 0.95\n",
      "loss 0.18 accuracy 0.95\n",
      "loss 0.18 accuracy 0.95\n",
      "loss 0.18 accuracy 0.95\n",
      "loss 0.18 accuracy 0.95\n",
      "loss 0.17 accuracy 0.95\n",
      "loss 0.17 accuracy 0.95\n",
      "loss 0.17 accuracy 0.95\n",
      "loss 0.17 accuracy 0.95\n",
      "loss 0.17 accuracy 0.95\n",
      "loss 0.16 accuracy 0.95\n",
      "loss 0.16 accuracy 0.95\n",
      "loss 0.16 accuracy 0.95\n",
      "loss 0.16 accuracy 0.95\n",
      "loss 0.16 accuracy 0.95\n",
      "loss 0.15 accuracy 0.96\n",
      "loss 0.15 accuracy 0.96\n",
      "loss 0.15 accuracy 0.96\n",
      "loss 0.15 accuracy 0.96\n",
      "loss 0.15 accuracy 0.96\n",
      "loss 0.15 accuracy 0.96\n",
      "loss 0.14 accuracy 0.96\n",
      "loss 0.14 accuracy 0.96\n",
      "loss 0.14 accuracy 0.96\n",
      "loss 0.14 accuracy 0.96\n",
      "loss 0.14 accuracy 0.96\n",
      "loss 0.14 accuracy 0.96\n",
      "loss 0.14 accuracy 0.96\n",
      "loss 0.13 accuracy 0.96\n"
     ]
    }
   ],
   "source": [
    "model = MNIST_net()\n",
    "loss_function = nn.CrossEntropyLoss()\n",
    "#loss_function = torch.nn.MSELoss()\n",
    "optim = torch.optim.SGD(model.parameters(), lr=0.2, momentum=0.4)\n",
    "\n",
    "for i in range(700):\n",
    "    model.zero_grad()\n",
    "    out = model(x_train)\n",
    "    cat = torch.argmax(out, dim=1)\n",
    "    accuracy = (cat == y_train).float().mean()\n",
    "    loss = loss_function(out, y_train)\n",
    "    loss = loss.mean()\n",
    "    loss.float()\n",
    "    loss.backward()\n",
    "    optim.step()\n",
    "\n",
    "    \n",
    "    if i%10 == 0:\n",
    "        #print(out)\n",
    "        print(\"loss %.2f accuracy %.2f\" % (loss, accuracy))"
   ]
  },
  {
   "cell_type": "code",
   "execution_count": 37,
   "metadata": {},
   "outputs": [],
   "source": [
    "shit = np.array([2])\n",
    "fuck = torch.tensor(shit)"
   ]
  },
  {
   "cell_type": "code",
   "execution_count": 38,
   "metadata": {},
   "outputs": [
    {
     "data": {
      "text/plain": [
       "tensor([[0, 0, 1]])"
      ]
     },
     "execution_count": 38,
     "metadata": {},
     "output_type": "execute_result"
    }
   ],
   "source": [
    "F.one_hot(fuck)"
   ]
  },
  {
   "cell_type": "code",
   "execution_count": 5,
   "metadata": {},
   "outputs": [],
   "source": [
    "test_data = \"/Users/gaky/Desktop/MNIST bitch!/digit-recognizer/test.csv\"\n",
    "\n",
    "test_data = pd.read_csv(test_data)\n",
    "test_data = np.array(test_data)"
   ]
  },
  {
   "cell_type": "code",
   "execution_count": 6,
   "metadata": {},
   "outputs": [
    {
     "data": {
      "text/plain": [
       "(28000, 784)"
      ]
     },
     "execution_count": 6,
     "metadata": {},
     "output_type": "execute_result"
    }
   ],
   "source": [
    "test_data.shape"
   ]
  },
  {
   "cell_type": "code",
   "execution_count": 16,
   "metadata": {},
   "outputs": [],
   "source": [
    "out = model(torch.tensor(test_data[50]).float())"
   ]
  },
  {
   "cell_type": "code",
   "execution_count": 17,
   "metadata": {},
   "outputs": [
    {
     "data": {
      "text/plain": [
       "tensor(6)"
      ]
     },
     "execution_count": 17,
     "metadata": {},
     "output_type": "execute_result"
    }
   ],
   "source": [
    "torch.argmax(out)"
   ]
  },
  {
   "cell_type": "code",
   "execution_count": 18,
   "metadata": {},
   "outputs": [
    {
     "data": {
      "text/plain": [
       "<matplotlib.image.AxesImage at 0x7fbbb3d793d0>"
      ]
     },
     "execution_count": 18,
     "metadata": {},
     "output_type": "execute_result"
    },
    {
     "data": {
      "image/png": "[encoded data removed]",
      "text/plain": [
       "<Figure size 640x480 with 1 Axes>"
      ]
     },
     "metadata": {},
     "output_type": "display_data"
    }
   ],
   "source": [
    "plt.imshow(test_data[50].reshape(28, 28))"
   ]
  },
  {
   "cell_type": "code",
   "execution_count": 30,
   "metadata": {},
   "outputs": [
    {
     "data": {
      "text/plain": [
       "torch.Tensor"
      ]
     },
     "execution_count": 30,
     "metadata": {},
     "output_type": "execute_result"
    }
   ],
   "source": [
    "type(out[0])"
   ]
  },
  {
   "cell_type": "code",
   "execution_count": 21,
   "metadata": {},
   "outputs": [
    {
     "data": {
      "text/plain": [
       "tensor(-5.3802, grad_fn=<MeanBackward0>)"
      ]
     },
     "execution_count": 21,
     "metadata": {},
     "output_type": "execute_result"
    }
   ],
   "source": [
    "out.mean()"
   ]
  },
  {
   "cell_type": "code",
   "execution_count": 22,
   "metadata": {},
   "outputs": [
    {
     "data": {
      "text/plain": [
       "tensor(6.9115, grad_fn=<StdBackward0>)"
      ]
     },
     "execution_count": 22,
     "metadata": {},
     "output_type": "execute_result"
    }
   ],
   "source": [
    "out.std()"
   ]
  },
  {
   "cell_type": "code",
   "execution_count": 32,
   "metadata": {},
   "outputs": [
    {
     "data": {
      "text/plain": [
       "tensor(-53.8024, grad_fn=<SumBackward0>)"
      ]
     },
     "execution_count": 32,
     "metadata": {},
     "output_type": "execute_result"
    }
   ],
   "source": [
    "torch.sum(out)"
   ]
  },
  {
   "cell_type": "code",
   "execution_count": 7,
   "metadata": {},
   "outputs": [],
   "source": [
    "import torch.utils.data as U"
   ]
  },
  {
   "cell_type": "code",
   "execution_count": 8,
   "metadata": {},
   "outputs": [
    {
     "name": "stderr",
     "output_type": "stream",
     "text": [
      "/var/folders/45/wj5m3mk56b38wrkpv32mr0240000gn/T/ipykernel_44423/142397643.py:1: UserWarning: To copy construct from a tensor, it is recommended to use sourceTensor.clone().detach() or sourceTensor.clone().detach().requires_grad_(True), rather than torch.tensor(sourceTensor).\n",
      "  dataset = U.TensorDataset(torch.tensor(x_train).float(), torch.tensor(y_train).long())\n"
     ]
    }
   ],
   "source": [
    "dataset = U.TensorDataset(torch.tensor(x_train).float(), torch.tensor(y_train).long())\n",
    "dataloader = U.DataLoader(dataset, batch_size=64, shuffle=True)"
   ]
  },
  {
   "cell_type": "code",
   "execution_count": null,
   "metadata": {},
   "outputs": [],
   "source": [
    ".clone().detach()"
   ]
  },
  {
   "cell_type": "code",
   "execution_count": 9,
   "metadata": {},
   "outputs": [],
   "source": [
    "dataset = U.TensorDataset(x_train.clone().detach(), y_train.clone().detach())\n",
    "dataloader = U.DataLoader(dataset, batch_size=64, shuffle=True)"
   ]
  },
  {
   "cell_type": "code",
   "execution_count": 10,
   "metadata": {},
   "outputs": [],
   "source": [
    "shit = iter(dataloader)"
   ]
  },
  {
   "cell_type": "code",
   "execution_count": 13,
   "metadata": {},
   "outputs": [],
   "source": [
    "fuck = next(shit)"
   ]
  },
  {
   "cell_type": "code",
   "execution_count": 1,
   "metadata": {},
   "outputs": [
    {
     "ename": "NameError",
     "evalue": "name 'fuck' is not defined",
     "output_type": "error",
     "traceback": [
      "\u001b[0;31m---------------------------------------------------------------------------\u001b[0m",
      "\u001b[0;31mNameError\u001b[0m                                 Traceback (most recent call last)",
      "\u001b[0;32m/var/folders/45/wj5m3mk56b38wrkpv32mr0240000gn/T/ipykernel_66035/2299792788.py\u001b[0m in \u001b[0;36m<module>\u001b[0;34m\u001b[0m\n\u001b[0;32m----> 1\u001b[0;31m \u001b[0mlen\u001b[0m\u001b[0;34m(\u001b[0m\u001b[0mfuck\u001b[0m\u001b[0;34m[\u001b[0m\u001b[0;36m1\u001b[0m\u001b[0;34m]\u001b[0m\u001b[0;34m)\u001b[0m\u001b[0;34m\u001b[0m\u001b[0;34m\u001b[0m\u001b[0m\n\u001b[0m",
      "\u001b[0;31mNameError\u001b[0m: name 'fuck' is not defined"
     ]
    }
   ],
   "source": [
    "len(fuck[1])"
   ]
  },
  {
   "cell_type": "code",
   "execution_count": null,
   "metadata": {},
   "outputs": [],
   "source": []
  }
 ],
 "metadata": {
  "kernelspec": {
   "display_name": "Python 3 (ipykernel)",
   "language": "python",
   "name": "python3"
  },
  "language_info": {
   "codemirror_mode": {
    "name": "ipython",
    "version": 3
   },
   "file_extension": ".py",
   "mimetype": "text/x-python",
   "name": "python",
   "nbconvert_exporter": "python",
   "pygments_lexer": "ipython3",
   "version": "3.9.13"
  }
 },
 "nbformat": 4,
 "nbformat_minor": 4
}
